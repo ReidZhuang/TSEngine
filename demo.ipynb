{
 "cells": [
  {
   "cell_type": "code",
   "execution_count": 1,
   "id": "f6b86a32",
   "metadata": {},
   "outputs": [],
   "source": [
    "# license = Apache License, Version 2.0\n",
    "\n",
    "import TSEngine"
   ]
  },
  {
   "cell_type": "code",
   "execution_count": 2,
   "id": "c196a128-ced5-41a4-aa54-184f70e64eed",
   "metadata": {},
   "outputs": [
    {
     "data": {
      "text/plain": [
       "(30, 200)"
      ]
     },
     "execution_count": 2,
     "metadata": {},
     "output_type": "execute_result"
    }
   ],
   "source": [
    "import numpy as np\n",
    "arr = np.random.rand(30, 200)*100\n",
    "arr.shape"
   ]
  },
  {
   "cell_type": "code",
   "execution_count": 3,
   "id": "d53f3d56-94f5-465f-9f87-a736a268ac79",
   "metadata": {},
   "outputs": [
    {
     "name": "stdout",
     "output_type": "stream",
     "text": [
      "Parameters GOOD to go!\n"
     ]
    }
   ],
   "source": [
    "cterm = 70\n",
    "checkday_list = [5, 10, 15, 20, 30, 40, 50, 60]\n",
    "period_list = [10, 30, 60]\n",
    "mode_round_number = -1\n",
    "margin_value = 90\n",
    "special_cnt_value = 0\n",
    "period_comparison_base = [10, 30]    # np.max(period_comparison_base*)2 < arr.shape[1]\n",
    "\n",
    "tse = TSEngine.engine_setup(cterm, checkday_list, period_list, mode_round_number, margin_value, special_cnt_value, period_comparison_base)\n",
    "tse.check_para(arr)\n",
    "f_arr, f_index =  tse.pull_features(arr)"
   ]
  },
  {
   "cell_type": "code",
   "execution_count": 7,
   "id": "d6f22f96-bc7b-46e9-8575-3db2f0a4128b",
   "metadata": {},
   "outputs": [
    {
     "name": "stdout",
     "output_type": "stream",
     "text": [
      "Feature array shape:  (30, 91)\n",
      "Number of feature is  91\n"
     ]
    }
   ],
   "source": [
    "print('Feature array shape: ', f_arr.shape)\n",
    "print('Number of feature is ', len(f_index))"
   ]
  },
  {
   "cell_type": "code",
   "execution_count": 9,
   "id": "eca9f2fe-2790-46a3-b13c-701ce7f84093",
   "metadata": {},
   "outputs": [
    {
     "name": "stdout",
     "output_type": "stream",
     "text": [
      "Feature name list: \n",
      "\n",
      "['current_value', 'cterm_value', 'cterm_current_diff', 'all_term_mean', 'all_term_median', 'all_term_max', 'all_term_min', 'all_term_ptp', 'all_term_mode', 'all_term_reach_margin_count', 'all_term_reach_margin_label', 'cterm_reach_margin_count', 'cterm_reach_margin_label', 'all_term_special_number_count', '5terms_ago_value', '10terms_ago_value', '15terms_ago_value', '20terms_ago_value', '30terms_ago_value', '40terms_ago_value', '50terms_ago_value', '60terms_ago_value', 'recent10terms_sum', 'recent10terms_mean', 'recent10terms_median', 'recent10terms_max', 'recent10terms_min', 'recent10terms_ptp', 'recent10terms_mode', 'recent10terms_special_number_count', 'recent30terms_sum', 'recent30terms_mean', 'recent30terms_median', 'recent30terms_max', 'recent30terms_min', 'recent30terms_ptp', 'recent30terms_mode', 'recent30terms_special_number_count', 'recent60terms_sum', 'recent60terms_mean', 'recent60terms_median', 'recent60terms_max', 'recent60terms_min', 'recent60terms_ptp', 'recent60terms_mode', 'recent60terms_special_number_count', 'recent10d_roll_net', 'recent30d_roll_net', 'recent60d_roll_net', '5terms_ago_difference', '5terms_ago_diff_label', 'recent5terms_status_change_label', '10terms_ago_difference', '10terms_ago_diff_label', 'recent10terms_status_change_label', '15terms_ago_difference', '15terms_ago_diff_label', 'recent15terms_status_change_label', '20terms_ago_difference', '20terms_ago_diff_label', 'recent20terms_status_change_label', '30terms_ago_difference', '30terms_ago_diff_label', 'recent30terms_status_change_label', '40terms_ago_difference', '40terms_ago_diff_label', 'recent40terms_status_change_label', '50terms_ago_difference', '50terms_ago_diff_label', 'recent50terms_status_change_label', '60terms_ago_difference', '60terms_ago_diff_label', 'recent60terms_status_change_label', '10term_comparison_sum', '10term_comparison_mean', '10term_comparison_median', '10term_comparison_max', '10term_comparison_min', '10term_comparison_ptp', '10term_comparison_mode', '10term_comparison_special_value_cout', '10term_comparison_reach_margin_count', '30term_comparison_sum', '30term_comparison_mean', '30term_comparison_median', '30term_comparison_max', '30term_comparison_min', '30term_comparison_ptp', '30term_comparison_mode', '30term_comparison_special_value_cout', '30term_comparison_reach_margin_count']\n"
     ]
    }
   ],
   "source": [
    "print('Feature name list: \\n')\n",
    "print(f_index)"
   ]
  },
  {
   "cell_type": "markdown",
   "id": "2f29278f-6253-4138-8f71-8b64407520ce",
   "metadata": {},
   "source": [
    "## Features and Explanation"
   ]
  },
  {
   "cell_type": "code",
   "execution_count": null,
   "id": "48c8dcda-5d3f-4253-b60b-b03b5c340554",
   "metadata": {},
   "outputs": [],
   "source": [
    "'current_value',    #latest time step's value\n",
    "'cterm_value',    #cterm stpes before the latest time step's value\n",
    "'cterm_current_diff',    #current_value - cterm_value\n",
    "'all_term_mean',    #mean through all the time series data\n",
    "'all_term_median',    #median through all the time series data\n",
    "'all_term_max',    #max through all the time series data\n",
    "'all_term_min',    #min through all the time series data\n",
    "'all_term_ptp',    #ptp through all the time series data\n",
    "'all_term_mode',    #mode through all the time series data\n",
    "'all_term_reach_margin_count',    #times of time step value reaching the defined margin (margin_value) through all the time\n",
    "'all_term_reach_margin_label',    #whether or not of any time step value has reached the defined margin (margin_value) through all the time\n",
    "'cterm_reach_margin_count',    #times of time step value reaching the defined margin (margin_value) through cterm time steps to the latest time step\n",
    "'cterm_reach_margin_label',    #whether or not of any time step value has reached the defined margin (margin_value) through cterm time steps to the latest time step\n",
    "'all_term_special_number_count',    #times that value of time step equals the special number (special_cnt_value) defined through all the time\n",
    "'5terms_ago_value',    #the value of the time step (n steps before the latest time steps). n defined in checkday_list\n",
    "'10terms_ago_value',    #the value of the time step (n steps before the latest time steps). n defined in checkday_list\n",
    "'15terms_ago_value',    #the value of the time step (n steps before the latest time steps). n defined in checkday_list\n",
    "'20terms_ago_value',    #the value of the time step (n steps before the latest time steps). n defined in checkday_list\n",
    "'30terms_ago_value',    #the value of the time step (n steps before the latest time steps). n defined in checkday_list\n",
    "'40terms_ago_value',    #the value of the time step (n steps before the latest time steps). n defined in checkday_list\n",
    "'50terms_ago_value',    #the value of the time step (n steps before the latest time steps). n defined in checkday_list\n",
    "'60terms_ago_value',    #the value of the time step (n steps before the latest time steps). n defined in checkday_list\n",
    "'recent10terms_sum',    #statistics calculated from time series from n steps before the latest time steps to the latest step. n defined in period_list\n",
    "'recent10terms_mean',    #statistics calculated from time series from n steps before the latest time steps to the latest step. n defined in period_list\n",
    "'recent10terms_median',    #statistics calculated from time series from n steps before the latest time steps to the latest step. n defined in period_list\n",
    "'recent10terms_max',    #statistics calculated from time series from n steps before the latest time steps to the latest step. n defined in period_list\n",
    "'recent10terms_min',    #statistics calculated from time series from n steps before the latest time steps to the latest step. n defined in period_list\n",
    "'recent10terms_ptp',    #statistics calculated from time series from n steps before the latest time steps to the latest step. n defined in period_list\n",
    "'recent10terms_mode',    #statistics calculated from time series from n steps before the latest time steps to the latest step. n defined in period_list\n",
    "'recent10terms_special_number_count',    #statistics calculated from time series from n steps before the latest time steps to the latest step. n defined in period_list\n",
    "'recent30terms_sum',    #statistics calculated from time series from n steps before the latest time steps to the latest step. n defined in period_list\n",
    "'recent30terms_mean',    #statistics calculated from time series from n steps before the latest time steps to the latest step. n defined in period_list\n",
    "'recent30terms_median',    #statistics calculated from time series from n steps before the latest time steps to the latest step. n defined in period_list\n",
    "'recent30terms_max',    #statistics calculated from time series from n steps before the latest time steps to the latest step. n defined in period_list\n",
    "'recent30terms_min',    #statistics calculated from time series from n steps before the latest time steps to the latest step. n defined in period_list\n",
    "'recent30terms_ptp',    #statistics calculated from time series from n steps before the latest time steps to the latest step. n defined in period_list\n",
    "'recent30terms_mode',    #statistics calculated from time series from n steps before the latest time steps to the latest step. n defined in period_list\n",
    "'recent30terms_special_number_count',    #statistics calculated from time series from n steps before the latest time steps to the latest step. n defined in period_list\n",
    "'recent60terms_sum',    #statistics calculated from time series from n steps before the latest time steps to the latest step. n defined in period_list\n",
    "'recent60terms_mean',    #statistics calculated from time series from n steps before the latest time steps to the latest step. n defined in period_list\n",
    "'recent60terms_median',    #statistics calculated from time series from n steps before the latest time steps to the latest step. n defined in period_list\n",
    "'recent60terms_max',    #statistics calculated from time series from n steps before the latest time steps to the latest step. n defined in period_list\n",
    "'recent60terms_min',    #statistics calculated from time series from n steps before the latest time steps to the latest step. n defined in period_list\n",
    "'recent60terms_ptp',    #statistics calculated from time series from n steps before the latest time steps to the latest step. n defined in period_list\n",
    "'recent60terms_mode',    #statistics calculated from time series from n steps before the latest time steps to the latest step. n defined in period_list\n",
    "'recent60terms_special_number_count',    #statistics calculated from time series from n steps before the latest time steps to the latest step. n defined in period_list\n",
    "'recent10d_roll_net',    #statistics calculated from time series from n steps before the latest time steps to the latest step. n defined in period_list\n",
    "'recent30d_roll_net',    #statistics calculated from time series from n steps before the latest time steps to the latest step. n defined in period_list\n",
    "'recent60d_roll_net',    #statistics calculated from time series from n steps before the latest time steps to the latest step. n defined in period_list\n",
    "'5terms_ago_difference',    #latest time step value - n terms before latest time step value. n defined in checkday_list\n",
    "'5terms_ago_diff_label',    #label represents that whether the latest value equals to the value n steps before. n defined in checkday_list\n",
    "'recent5terms_status_change_label',    #label represents that whether the latest value has changed during the last n time steps. n defined in checkday_list\n",
    "'10terms_ago_difference',    #latest time step value - n terms before latest time step value. n defined in checkday_list\n",
    "'10terms_ago_diff_label',    #label represents that whether the latest value equals to the value n steps before. n defined in checkday_list\n",
    "'recent10terms_status_change_label',    #label represents that whether the latest value has changed during the last n time steps. n defined in checkday_list\n",
    "'15terms_ago_difference',    #latest time step value - n terms before latest time step value. n defined in checkday_list\n",
    "'15terms_ago_diff_label',    #label represents that whether the latest value equals to the value n steps before. n defined in checkday_list\n",
    "'recent15terms_status_change_label',    #label represents that whether the latest value has changed during the last n time steps. n defined in checkday_list\n",
    "'20terms_ago_difference',    #latest time step value - n terms before latest time step value. n defined in checkday_list\n",
    "'20terms_ago_diff_label',    #label represents that whether the latest value equals to the value n steps before. n defined in checkday_list\n",
    "'recent20terms_status_change_label',    #label represents that whether the latest value has changed during the last n time steps. n defined in checkday_list\n",
    "'30terms_ago_difference',    #latest time step value - n terms before latest time step value. n defined in checkday_list\n",
    "'30terms_ago_diff_label',    #label represents that whether the latest value equals to the value n steps before. n defined in checkday_list\n",
    "'recent30terms_status_change_label',    #label represents that whether the latest value has changed during the last n time steps. n defined in checkday_list\n",
    "'40terms_ago_difference',    #latest time step value - n terms before latest time step value. n defined in checkday_list\n",
    "'40terms_ago_diff_label',    #label represents that whether the latest value equals to the value n steps before. n defined in checkday_list\n",
    "'recent40terms_status_change_label',    #label represents that whether the latest value has changed during the last n time steps. n defined in checkday_list\n",
    "'50terms_ago_difference',    #latest time step value - n terms before latest time step value. n defined in checkday_list\n",
    "'50terms_ago_diff_label',    #label represents that whether the latest value equals to the value n steps before. n defined in checkday_list\n",
    "'recent50terms_status_change_label',    #label represents that whether the latest value has changed during the last n time steps. n defined in checkday_list\n",
    "'60terms_ago_difference',    #latest time step value - n terms before latest time step value. n defined in checkday_list\n",
    "'60terms_ago_diff_label',    #label represents that whether the latest value equals to the value n steps before. n defined in checkday_list\n",
    "'recent60terms_status_change_label',    #label represents that whether the latest value has changed during the last n time steps. n defined in checkday_list\n",
    "'10term_comparison_sum',    #statistics difference of period A to period B (A = n time steps before the latest time step to the latest; B = 2*n time steps before the latest to n time steps before the latest). n defined in period_comparison_base\n",
    "'10term_comparison_mean',    #statistics difference of period A to period B (A = n time steps before the latest time step to the latest; B = 2*n time steps before the latest to n time steps before the latest). n defined in period_comparison_base\n",
    "'10term_comparison_median',    #statistics difference of period A to period B (A = n time steps before the latest time step to the latest; B = 2*n time steps before the latest to n time steps before the latest). n defined in period_comparison_base\n",
    "'10term_comparison_max',    #statistics difference of period A to period B (A = n time steps before the latest time step to the latest; B = 2*n time steps before the latest to n time steps before the latest). n defined in period_comparison_base\n",
    "'10term_comparison_min',    #statistics difference of period A to period B (A = n time steps before the latest time step to the latest; B = 2*n time steps before the latest to n time steps before the latest). n defined in period_comparison_base\n",
    "'10term_comparison_ptp',    #statistics difference of period A to period B (A = n time steps before the latest time step to the latest; B = 2*n time steps before the latest to n time steps before the latest). n defined in period_comparison_base\n",
    "'10term_comparison_mode',    #statistics difference of period A to period B (A = n time steps before the latest time step to the latest; B = 2*n time steps before the latest to n time steps before the latest). n defined in period_comparison_base\n",
    "'10term_comparison_special_value_cout',    #statistics difference of period A to period B (A = n time steps before the latest time step to the latest; B = 2*n time steps before the latest to n time steps before the latest). n defined in period_comparison_base\n",
    "'10term_comparison_reach_margin_count',    #statistics difference of period A to period B (A = n time steps before the latest time step to the latest; B = 2*n time steps before the latest to n time steps before the latest). n defined in period_comparison_base\n",
    "'30term_comparison_sum',    #statistics difference of period A to period B (A = n time steps before the latest time step to the latest; B = 2*n time steps before the latest to n time steps before the latest). n defined in period_comparison_base\n",
    "'30term_comparison_mean',    #statistics difference of period A to period B (A = n time steps before the latest time step to the latest; B = 2*n time steps before the latest to n time steps before the latest). n defined in period_comparison_base\n",
    "'30term_comparison_median',    #statistics difference of period A to period B (A = n time steps before the latest time step to the latest; B = 2*n time steps before the latest to n time steps before the latest). n defined in period_comparison_base\n",
    "'30term_comparison_max',    #statistics difference of period A to period B (A = n time steps before the latest time step to the latest; B = 2*n time steps before the latest to n time steps before the latest). n defined in period_comparison_base\n",
    "'30term_comparison_min',    #statistics difference of period A to period B (A = n time steps before the latest time step to the latest; B = 2*n time steps before the latest to n time steps before the latest). n defined in period_comparison_base\n",
    "'30term_comparison_ptp',    #statistics difference of period A to period B (A = n time steps before the latest time step to the latest; B = 2*n time steps before the latest to n time steps before the latest). n defined in period_comparison_base\n",
    "'30term_comparison_mode',    #statistics difference of period A to period B (A = n time steps before the latest time step to the latest; B = 2*n time steps before the latest to n time steps before the latest). n defined in period_comparison_base\n",
    "'30term_comparison_special_value_cout',    #statistics difference of period A to period B (A = n time steps before the latest time step to the latest; B = 2*n time steps before the latest to n time steps before the latest). n defined in period_comparison_base\n",
    "'30term_comparison_reach_margin_count'    #statistics difference of period A to period B (A = n time steps before the latest time step to the latest; B = 2*n time steps before the latest to n time steps before the latest). n defined in period_comparison_base"
   ]
  }
 ],
 "metadata": {
  "kernelspec": {
   "display_name": "Python 3 (ipykernel)",
   "language": "python",
   "name": "python3"
  },
  "language_info": {
   "codemirror_mode": {
    "name": "ipython",
    "version": 3
   },
   "file_extension": ".py",
   "mimetype": "text/x-python",
   "name": "python",
   "nbconvert_exporter": "python",
   "pygments_lexer": "ipython3",
   "version": "3.9.9"
  }
 },
 "nbformat": 4,
 "nbformat_minor": 5
}
